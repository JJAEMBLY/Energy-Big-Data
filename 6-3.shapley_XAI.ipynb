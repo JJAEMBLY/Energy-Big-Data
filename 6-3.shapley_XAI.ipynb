{
 "cells": [
  {
   "cell_type": "code",
   "execution_count": 80,
   "metadata": {},
   "outputs": [],
   "source": [
    "import pandas as pd\n",
    "import torch\n",
    "import torch.nn as nn\n",
    "import torch.optim as optim\n",
    "from torch.utils.data import Dataset, DataLoader\n",
    "from sklearn.model_selection import train_test_split\n",
    "from sklearn.preprocessing import StandardScaler\n",
    "import numpy as np\n",
    "\n",
    "import matplotlib.pyplot as plt\n",
    "from sklearn.metrics import mean_squared_error\n",
    "from sklearn.metrics import mean_absolute_percentage_error\n",
    "from tqdm import tqdm\n",
    "from sklearn.preprocessing import MinMaxScaler\n",
    "from itertools import combinations\n",
    "import math \n",
    "import copy\n",
    "import time\n",
    "\n",
    "import pandapower as pp\n",
    "import pandapower.networks as pn\n",
    "\n",
    "from numpy import NaN, NAN, nan\n",
    "import shap "
   ]
  },
  {
   "cell_type": "code",
   "execution_count": 81,
   "metadata": {},
   "outputs": [],
   "source": [
    "device = torch.device('cpu')\n",
    "model = torch.jit.load('loss_model.pt',map_location=device)"
   ]
  },
  {
   "cell_type": "code",
   "execution_count": 82,
   "metadata": {},
   "outputs": [],
   "source": [
    "data = pd.read_csv(\"loss_allocation_data.csv\", index_col=0)\n",
    "\n",
    "net = pn.panda_four_load_branch()\n",
    "net.load.p_mw = [0.05, 0.06, 0.07, 0.08]"
   ]
  },
  {
   "cell_type": "code",
   "execution_count": 83,
   "metadata": {},
   "outputs": [],
   "source": [
    "X_train, X_test, y_train, y_test = train_test_split(data.iloc[:,:4].copy(),\n",
    "                                                    data.iloc[:,4:].copy(),\n",
    "                                                    test_size=0.2, random_state=42)"
   ]
  },
  {
   "cell_type": "code",
   "execution_count": 84,
   "metadata": {},
   "outputs": [
    {
     "data": {
      "text/plain": [
       "'scaler_y = MinMaxScaler()\\ny_train = scaler_y.fit_transform(y_train)\\ny_test = scaler_y.transform(y_test)'"
      ]
     },
     "execution_count": 84,
     "metadata": {},
     "output_type": "execute_result"
    }
   ],
   "source": [
    "'''scaler_x = MinMaxScaler()\n",
    "X_train = scaler_x.fit_transform(X_train)\n",
    "X_test = scaler_x.transform(X_test)'''\n",
    "\n",
    "'''scaler_y = MinMaxScaler()\n",
    "y_train = scaler_y.fit_transform(y_train)\n",
    "y_test = scaler_y.transform(y_test)'''"
   ]
  },
  {
   "cell_type": "code",
   "execution_count": 85,
   "metadata": {},
   "outputs": [
    {
     "data": {
      "application/vnd.jupyter.widget-view+json": {
       "model_id": "f004f503a45144afa28d57e97051d36e",
       "version_major": 2,
       "version_minor": 0
      },
      "text/plain": [
       "  0%|          | 0/1 [00:00<?, ?it/s]"
      ]
     },
     "metadata": {},
     "output_type": "display_data"
    }
   ],
   "source": [
    "\n",
    "# SHAP Calculation\n",
    "def model_func(data):\n",
    "    model.eval()  # ensure the model is in evaluation mode\n",
    "    data_tensor = torch.from_numpy(data.astype(np.float32))  # convert the numpy array to a torch tensor\n",
    "    with torch.no_grad():  # turn off gradients for prediction\n",
    "        output = model(data_tensor)\n",
    "    return output.cpu().numpy()  # assuming you're using a GPU\n",
    "\n",
    "background_data = X_train\n",
    "test_data = X_train\n",
    "\n",
    "\n",
    "explainer = shap.KernelExplainer(model_func, data=np.linspace([0.0001] * 4, [0.001] * 4, num=10), masker=lambda mask, x: x * mask)\n",
    "SHAP_values = explainer.shap_values(np.array([net.load.p_mw]))"
   ]
  },
  {
   "cell_type": "code",
   "execution_count": 86,
   "metadata": {},
   "outputs": [
    {
     "data": {
      "image/png": "[encoded data removed]",
      "text/plain": [
       "<Figure size 800x310 with 1 Axes>"
      ]
     },
     "metadata": {},
     "output_type": "display_data"
    }
   ],
   "source": [
    "fig = plt.figure(figsize=(8,8))\n",
    "fig.set_facecolor('white')\n",
    "ax = fig.add_subplot()\n",
    "shap.summary_plot(SHAP_values, background_data, \n",
    "                  feature_names=[1,2,3,4], ## 변수명 표시\n",
    "                  cmap='bwr', ## 컬러맵\n",
    "                  show=False, ## 기존 X축 라벨 표시 안함\n",
    "                 )\n",
    "ax.set_xlabel('SHAP Value')\n",
    "ax.set_title('SHAP Dot Plot', fontsize=20)\n",
    "plt.show()"
   ]
  },
  {
   "cell_type": "code",
   "execution_count": 87,
   "metadata": {},
   "outputs": [],
   "source": [
    "compare_index = 0\n",
    "model_result = [\n",
    "    sum([SHAP_values[i][compare_index][feat] for i in range(4)])\n",
    "    for feat in range(4)\n",
    "]"
   ]
  },
  {
   "cell_type": "code",
   "execution_count": 88,
   "metadata": {},
   "outputs": [
    {
     "data": {
      "text/plain": [
       "[0.0013328117138977772,\n",
       " 0.002628071218108137,\n",
       " 0.003854669364227449,\n",
       " 0.0048805732963955965]"
      ]
     },
     "execution_count": 88,
     "metadata": {},
     "output_type": "execute_result"
    }
   ],
   "source": [
    "model_result"
   ]
  },
  {
   "cell_type": "code",
   "execution_count": 49,
   "metadata": {},
   "outputs": [],
   "source": []
  },
  {
   "cell_type": "code",
   "execution_count": 89,
   "metadata": {},
   "outputs": [],
   "source": [
    "class shapley_calc:\n",
    "    def __init__(self, net):\n",
    "        self.net = net\n",
    "        self.load_num = len(self.net.load)\n",
    "        self.sgen_num = len(self.net.sgen)\n",
    "        self.total_player_num = self.load_num+self.sgen_num\n",
    "\n",
    "    def coalitional_value(self, coalition): # TRUE FALSE COALITION\n",
    "        self.copy_net = copy.deepcopy(self.net)\n",
    "        \n",
    "        # SEPARATE BOOL INDEX\n",
    "        self.load_bool_idx = coalition[:self.load_num]\n",
    "        self.sgen_bool_idx = coalition[self.load_num:self.total_player_num]\n",
    "\n",
    "        self.update_load_list = np.zeros(self.load_num)\n",
    "        for i, value in enumerate(self.load_bool_idx):\n",
    "            if value == True:\n",
    "                self.update_load_list[i] = self.copy_net.load.p_mw[i]\n",
    "            elif value == False:\n",
    "                self.update_load_list[i] = 0\n",
    "\n",
    "        self.update_sgen_list = np.zeros(self.sgen_num)\n",
    "        for i, value in enumerate(self.sgen_bool_idx):\n",
    "            if value == True:\n",
    "                self.update_sgen_list[i] = self.copy_net.sgen.p_mw[i]\n",
    "            elif value == False:\n",
    "                \n",
    "                self.update_sgen_list[i] = 0\n",
    "\n",
    "        # UPDATE DATA\n",
    "        self.copy_net.load.p_mw = self.update_load_list\n",
    "        self.copy_net.sgen.p_mw = self.update_sgen_list\n",
    "\n",
    "        pp.runpp(self.copy_net)\n",
    "\n",
    "        return sum(self.copy_net.res_line.pl_mw)\n",
    "\n",
    "    def component_shapley(self, player):\n",
    "        self.shapley = 0\n",
    "        for coalition_number in range(self.total_player_num):\n",
    "            #print(\"coal_number : \", coalition_number)\n",
    "            \n",
    "            self.numbering_index = list(range(self.total_player_num))\n",
    "            self.numbering_index.remove(player)\n",
    "\n",
    "            self.without_i_coalition_list = list(combinations(self.numbering_index, coalition_number))\n",
    "\n",
    "            for players in list(self.without_i_coalition_list):\n",
    "                self.bool_list_w_player=np.zeros(self.total_player_num)\n",
    "                self.bool_list_wo_player=np.zeros(self.total_player_num)\n",
    "                \n",
    "                for indexing_number in range(self.total_player_num):\n",
    "                    if indexing_number in players:\n",
    "                        self.bool_list_w_player[indexing_number] = True\n",
    "                        self.bool_list_wo_player[indexing_number] = True\n",
    "                    else:\n",
    "                        self.bool_list_w_player[indexing_number] = False\n",
    "                        self.bool_list_wo_player[indexing_number] = False\n",
    "                    \n",
    "                    self.bool_list_w_player[player] = True\n",
    "                    self.bool_list_wo_player[player] = False\n",
    "\n",
    "                '''print('coalition_number_wo_player : ',coalition_number)\n",
    "                print('player : ', player)\n",
    "                print('bool_w_player : ', self.bool_list_w_player)\n",
    "                print('bool_wo_player : ', self.bool_list_wo_player)'''\n",
    "\n",
    "                self.weight = math.factorial(coalition_number)*math.factorial(self.total_player_num-coalition_number-1)/math.factorial(self.total_player_num)\n",
    "                self.marginal_value = self.coalitional_value(self.bool_list_w_player)-self.coalitional_value(self.bool_list_wo_player)\n",
    "                self.shapley += self.weight * self.marginal_value\n",
    "        \n",
    "        return self.shapley\n",
    "    \n",
    "    def shapley_list(self):\n",
    "        self.shapley_list = np.zeros(self.total_player_num)\n",
    "        for player in range(self.total_player_num):\n",
    "            self.shapley_list[player] = self.component_shapley(player=player)\n",
    "        \n",
    "        return self.shapley_list"
   ]
  },
  {
   "cell_type": "code",
   "execution_count": 92,
   "metadata": {},
   "outputs": [
    {
     "data": {
      "text/plain": [
       "array([0.00105553, 0.00228777, 0.00352663, 0.00453684])"
      ]
     },
     "execution_count": 92,
     "metadata": {},
     "output_type": "execute_result"
    }
   ],
   "source": [
    "start = time.time()\n",
    "shapley_calc(net).shapley_list()"
   ]
  },
  {
   "cell_type": "code",
   "execution_count": 93,
   "metadata": {},
   "outputs": [
    {
     "data": {
      "text/plain": [
       "[0.0013328117138977772,\n",
       " 0.002628071218108137,\n",
       " 0.003854669364227449,\n",
       " 0.0048805732963955965]"
      ]
     },
     "execution_count": 93,
     "metadata": {},
     "output_type": "execute_result"
    }
   ],
   "source": [
    "model_result"
   ]
  },
  {
   "cell_type": "code",
   "execution_count": null,
   "metadata": {},
   "outputs": [],
   "source": []
  },
  {
   "cell_type": "code",
   "execution_count": null,
   "metadata": {},
   "outputs": [],
   "source": []
  }
 ],
 "metadata": {
  "kernelspec": {
   "display_name": "Energy_Big_Data",
   "language": "python",
   "name": "python3"
  },
  "language_info": {
   "codemirror_mode": {
    "name": "ipython",
    "version": 3
   },
   "file_extension": ".py",
   "mimetype": "text/x-python",
   "name": "python",
   "nbconvert_exporter": "python",
   "pygments_lexer": "ipython3",
   "version": "3.8.17"
  }
 },
 "nbformat": 4,
 "nbformat_minor": 2
}
